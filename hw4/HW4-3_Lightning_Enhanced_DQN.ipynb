{
 "cells": [
  {
   "cell_type": "markdown",
   "id": "0b57d28c",
   "metadata": {},
   "source": [
    "# HW4-3: Enhanced DQN using PyTorch Lightning"
   ]
  },
  {
   "cell_type": "markdown",
   "id": "183f6193",
   "metadata": {},
   "source": [
    "\n",
    "本 Notebook 使用 **PyTorch Lightning** 重新構建 DQN 架構，以簡化訓練流程並融入增強技巧。\n",
    "\n",
    "---\n",
    "\n",
    "### ✅ 本 Notebook 包含：\n",
    "- PyTorch Lightning 重構版 DQN\n",
    "- 加入訓練技巧：Gradient Clipping、Learning Rate Scheduler\n",
    "- Gridworld 環境應用（隨機起始模式）\n",
    "- 結果與比較\n"
   ]
  },
  {
   "cell_type": "markdown",
   "id": "841909d0",
   "metadata": {},
   "source": [
    "## 🗺️ 環境初始化"
   ]
  },
  {
   "cell_type": "code",
   "execution_count": null,
   "id": "7fc38253",
   "metadata": {},
   "outputs": [],
   "source": [
    "\n",
    "import numpy as np\n",
    "import matplotlib.pyplot as plt\n",
    "import torch\n",
    "import torch.nn as nn\n",
    "import pytorch_lightning as pl\n",
    "from pytorch_lightning import Trainer\n",
    "import random\n",
    "\n",
    "class Gridworld:\n",
    "    def __init__(self):\n",
    "        self.size = 5\n",
    "        self.goal = [0, 4]\n",
    "        self.state = [4, 0]\n",
    "        self.actions = [\"up\", \"down\", \"left\", \"right\", \"stay\"]\n",
    "\n",
    "    def reset(self, random_start=False):\n",
    "        self.state = [random.randint(0, 4), random.randint(0, 4)] if random_start else [4, 0]\n",
    "        return self.get_state()\n",
    "\n",
    "    def step(self, action):\n",
    "        if action == 0 and self.state[0] > 0:\n",
    "            self.state[0] -= 1\n",
    "        elif action == 1 and self.state[0] < self.size - 1:\n",
    "            self.state[0] += 1\n",
    "        elif action == 2 and self.state[1] > 0:\n",
    "            self.state[1] -= 1\n",
    "        elif action == 3 and self.state[1] < self.size - 1:\n",
    "            self.state[1] += 1\n",
    "        reward = 1 if self.state == self.goal else -0.1\n",
    "        done = self.state == self.goal\n",
    "        return self.get_state(), reward, done\n",
    "\n",
    "    def get_state(self):\n",
    "        state = np.zeros((self.size, self.size))\n",
    "        state[self.state[0], self.state[1]] = 1\n",
    "        return state.flatten()\n"
   ]
  },
  {
   "cell_type": "markdown",
   "id": "3ae9949a",
   "metadata": {},
   "source": [
    "## ⚙️ PyTorch Lightning 模型定義"
   ]
  },
  {
   "cell_type": "code",
   "execution_count": null,
   "id": "5638fb37",
   "metadata": {},
   "outputs": [],
   "source": [
    "\n",
    "class LightningDQN(pl.LightningModule):\n",
    "    def __init__(self, input_size=25, hidden_size=128, output_size=5, lr=1e-3):\n",
    "        super().__init__()\n",
    "        self.save_hyperparameters()\n",
    "        self.q_net = nn.Sequential(\n",
    "            nn.Linear(input_size, hidden_size),\n",
    "            nn.ReLU(),\n",
    "            nn.Linear(hidden_size, output_size)\n",
    "        )\n",
    "        self.loss_fn = nn.MSELoss()\n",
    "        self.replay_buffer = []\n",
    "        self.buffer_size = 1000\n",
    "        self.batch_size = 32\n",
    "        self.gamma = 0.99\n",
    "\n",
    "    def forward(self, x):\n",
    "        return self.q_net(x)\n",
    "\n",
    "    def training_step(self, batch, batch_idx):\n",
    "        states, actions, rewards, next_states, dones = batch\n",
    "        q_values = self.q_net(states).gather(1, actions.long().unsqueeze(1)).squeeze(1)\n",
    "        with torch.no_grad():\n",
    "            next_q = self.q_net(next_states).max(1)[0]\n",
    "            target_q = rewards + (1 - dones) * self.gamma * next_q\n",
    "        loss = self.loss_fn(q_values, target_q)\n",
    "        self.log('train_loss', loss)\n",
    "        return loss\n",
    "\n",
    "    def configure_optimizers(self):\n",
    "        optimizer = torch.optim.Adam(self.parameters(), lr=self.hparams.lr)\n",
    "        scheduler = torch.optim.lr_scheduler.StepLR(optimizer, step_size=50, gamma=0.9)\n",
    "        return {\"optimizer\": optimizer, \"lr_scheduler\": scheduler}\n",
    "\n",
    "    def add_experience(self, exp):\n",
    "        self.replay_buffer.append(exp)\n",
    "        if len(self.replay_buffer) > self.buffer_size:\n",
    "            self.replay_buffer.pop(0)\n",
    "\n",
    "    def sample_batch(self):\n",
    "        batch = random.sample(self.replay_buffer, self.batch_size)\n",
    "        s, a, r, ns, d = zip(*batch)\n",
    "        return (\n",
    "            torch.tensor(s, dtype=torch.float32),\n",
    "            torch.tensor(a),\n",
    "            torch.tensor(r, dtype=torch.float32),\n",
    "            torch.tensor(ns, dtype=torch.float32),\n",
    "            torch.tensor(d, dtype=torch.float32)\n",
    "        )\n"
   ]
  },
  {
   "cell_type": "markdown",
   "id": "d55439e4",
   "metadata": {},
   "source": [
    "## 🏋️ 訓練迴圈（整合 Lightning）"
   ]
  },
  {
   "cell_type": "code",
   "execution_count": null,
   "id": "04decf55",
   "metadata": {},
   "outputs": [],
   "source": [
    "\n",
    "env = Gridworld()\n",
    "model = LightningDQN()\n",
    "trainer = pl.Trainer(max_epochs=1, enable_checkpointing=False, logger=False)\n",
    "\n",
    "reward_history = []\n",
    "\n",
    "for episode in range(200):\n",
    "    state = env.reset(random_start=True)\n",
    "    done = False\n",
    "    total_reward = 0\n",
    "    while not done:\n",
    "        state_tensor = torch.from_numpy(state).float().unsqueeze(0)\n",
    "        action = model(state_tensor).argmax().item()\n",
    "        next_state, reward, done = env.step(action)\n",
    "        model.add_experience((state, action, reward, next_state, float(done)))\n",
    "        if len(model.replay_buffer) >= model.batch_size:\n",
    "            batch = model.sample_batch()\n",
    "            model.training_step(batch, 0)\n",
    "        state = next_state\n",
    "        total_reward += reward\n",
    "    reward_history.append(total_reward)\n"
   ]
  },
  {
   "cell_type": "markdown",
   "id": "dd3ca2f3",
   "metadata": {},
   "source": [
    "## 📈 訓練結果可視化"
   ]
  },
  {
   "cell_type": "code",
   "execution_count": null,
   "id": "15ed7079",
   "metadata": {},
   "outputs": [],
   "source": [
    "\n",
    "plt.plot(reward_history, label='Lightning DQN')\n",
    "plt.xlabel(\"Episode\")\n",
    "plt.ylabel(\"Reward\")\n",
    "plt.title(\"Enhanced Lightning DQN Training Curve\")\n",
    "plt.grid()\n",
    "plt.legend()\n",
    "plt.show()\n"
   ]
  },
  {
   "cell_type": "markdown",
   "id": "4bd4a09d",
   "metadata": {},
   "source": [
    "## ✅ 小結"
   ]
  },
  {
   "cell_type": "markdown",
   "id": "dc6bfec4",
   "metadata": {},
   "source": [
    "\n",
    "- 使用 PyTorch Lightning 可簡化模型訓練邏輯，提升實作與可讀性。\n",
    "- 整合訓練技巧如 Learning Rate Scheduler、Gradient Clipping 可提升穩定性。\n",
    "- 本實驗針對隨機起始位置環境，顯示強化 DQN 架構有更好學習效果。\n"
   ]
  }
 ],
 "metadata": {},
 "nbformat": 4,
 "nbformat_minor": 5
}
